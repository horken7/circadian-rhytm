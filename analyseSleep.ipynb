{
 "cells": [
  {
   "cell_type": "markdown",
   "metadata": {},
   "source": [
    "2017-05-12 [Johan Larsson Hörkén](https://www.github.com/horken7)\n",
    "\n",
    "# Analyse sleep\n",
    "Using the data gathered during the sleep phase of partisipants in the SPHERE project, this Notebook intend to make an analysis of the data in three main areas:\n",
    "\n",
    "## Sleep detection\n",
    "Using unsupervised learning to see if it is possible to detect and classify when the user is asleep/awake. Ideally the concepts could be extended to detect differences between different sleep phases (light/deep/REM, etc), but some labeled data probably need to be collected to improve the accuracy of the model for such detection.\n",
    "\n",
    "\n",
    "## Night quality assesment \n",
    "By comparing the data for sleep and environment during a night with the information gathered in the sleep diaries, build a supevised learning model using inputs from the sleep diaries as labels for the quality of the sleep and environment of that night. Based on this model make predictions given new data regarding the quality of that nights sleep.\n",
    "\n",
    "## Ideal environment model\n",
    "Given the classification of the night quality, build a rudimentary model of ideal environment based on the nights where the quality were classified as high.\n"
   ]
  },
  {
   "cell_type": "code",
   "execution_count": 1,
   "metadata": {
    "collapsed": true
   },
   "outputs": [],
   "source": [
    "import pandas as pd\n",
    "import matplotlib.pyplot as plt\n",
    "import numpy as np\n",
    "from sklearn.cluster import KMeans\n",
    "from sklearn.neighbors import KNeighborsClassifier\n",
    "from sklearn import decomposition\n",
    "from mpl_toolkits.mplot3d import Axes3D\n",
    "import scipy.stats as stats\n",
    "from sklearn import preprocessing\n",
    "import os\n",
    "import pickle\n",
    "\n",
    "from ipywidgets import widgets\n",
    "%matplotlib inline"
   ]
  },
  {
   "cell_type": "markdown",
   "metadata": {},
   "source": [
    "## Begin by loading the sleep data into the workspace\n",
    "Special access is currently [2017-05-12] needed to access the data, please contact [tom.diethe@bristol.ac.uk](mailto:tom.diethe@bristol.ac.uk) for further information.\n",
    "The format of the data is further described in the README.md"
   ]
  },
  {
   "cell_type": "code",
   "execution_count": 2,
   "metadata": {
    "collapsed": true
   },
   "outputs": [],
   "source": [
    "# search for csv location\n",
    "\n",
    "found = []\n",
    "\n",
    "def find(name, path):\n",
    "    path = os.getcwd() + path\n",
    "    file = name\n",
    "\n",
    "    for root, dir, files in os.walk(path):\n",
    "        for item in files:\n",
    "            if file == item:\n",
    "                return os.path.join(root, file)\n",
    "        return None\n",
    "\n",
    "data = ['00', '01', '02', '03', '05', '22', '23', '24', '25']\n",
    "# use small dataset for faster loading speed\n",
    "# data = ['00', '01']\n",
    "\n",
    "# may need to change path based on your data location\n",
    "path = '/irc-sphere-sleep-56db93f64661/sphere-sensor-data'\n",
    "\n",
    "for d in data:\n",
    "    found.append(find('data_' + d + '.csv.gz', path))\n",
    "    found.append(find('data_' + d + '.csv', path))"
   ]
  },
  {
   "cell_type": "code",
   "execution_count": 3,
   "metadata": {
    "collapsed": false
   },
   "outputs": [
    {
     "name": "stderr",
     "output_type": "stream",
     "text": [
      "//anaconda/lib/python3.6/site-packages/IPython/core/interactiveshell.py:2717: DtypeWarning: Columns (13) have mixed types. Specify dtype option on import or set low_memory=False.\n",
      "  interactivity=interactivity, compiler=compiler, result=result)\n"
     ]
    }
   ],
   "source": [
    "# load files into workspace as DataFrame\n",
    "\n",
    "df = []\n",
    "for path in found:\n",
    "    if path is not None:\n",
    "        if 'gz' in path:\n",
    "            fileName = path\n",
    "            df.append(pd.read_csv(fileName, index_col='datetime', compression='gzip'))\n",
    "        else: \n",
    "            fileName = path\n",
    "            df.append(pd.read_csv(fileName, index_col='datetime'))"
   ]
  },
  {
   "cell_type": "markdown",
   "metadata": {},
   "source": [
    "### Format of data\n",
    "Each night have data mapped from a continous time series, where only one sensor gives a reading at each timestep. The format of the data follows:"
   ]
  },
  {
   "cell_type": "code",
   "execution_count": 4,
   "metadata": {
    "collapsed": false
   },
   "outputs": [
    {
     "data": {
      "text/html": [
       "<div>\n",
       "<table border=\"1\" class=\"dataframe\">\n",
       "  <thead>\n",
       "    <tr style=\"text-align: right;\">\n",
       "      <th></th>\n",
       "      <th>cold-water</th>\n",
       "      <th>door</th>\n",
       "      <th>dust</th>\n",
       "      <th>electricity</th>\n",
       "      <th>hid</th>\n",
       "      <th>hot-water</th>\n",
       "      <th>humidity</th>\n",
       "      <th>light</th>\n",
       "      <th>motion</th>\n",
       "      <th>noise</th>\n",
       "      <th>temperature</th>\n",
       "      <th>uid</th>\n",
       "      <th>aid</th>\n",
       "      <th>wearable-mag-xl1</th>\n",
       "      <th>wearable-rss</th>\n",
       "      <th>wearable-xl1-x</th>\n",
       "      <th>wearable-xl1-y</th>\n",
       "      <th>wearable-xl1-z</th>\n",
       "    </tr>\n",
       "    <tr>\n",
       "      <th>datetime</th>\n",
       "      <th></th>\n",
       "      <th></th>\n",
       "      <th></th>\n",
       "      <th></th>\n",
       "      <th></th>\n",
       "      <th></th>\n",
       "      <th></th>\n",
       "      <th></th>\n",
       "      <th></th>\n",
       "      <th></th>\n",
       "      <th></th>\n",
       "      <th></th>\n",
       "      <th></th>\n",
       "      <th></th>\n",
       "      <th></th>\n",
       "      <th></th>\n",
       "      <th></th>\n",
       "      <th></th>\n",
       "    </tr>\n",
       "  </thead>\n",
       "  <tbody>\n",
       "    <tr>\n",
       "      <th>2016-05-31 21:59:59.919856+00:00</th>\n",
       "      <td>NaN</td>\n",
       "      <td>NaN</td>\n",
       "      <td>NaN</td>\n",
       "      <td>NaN</td>\n",
       "      <td>NaN</td>\n",
       "      <td>NaN</td>\n",
       "      <td>NaN</td>\n",
       "      <td>NaN</td>\n",
       "      <td>NaN</td>\n",
       "      <td>NaN</td>\n",
       "      <td>NaN</td>\n",
       "      <td>0aa05543a5c2</td>\n",
       "      <td>0xb827eb524fec</td>\n",
       "      <td>-0.050446</td>\n",
       "      <td>-86.0</td>\n",
       "      <td>-0.648</td>\n",
       "      <td>0.238</td>\n",
       "      <td>-0.652</td>\n",
       "    </tr>\n",
       "    <tr>\n",
       "      <th>2016-05-31 21:59:59.969904+00:00</th>\n",
       "      <td>NaN</td>\n",
       "      <td>NaN</td>\n",
       "      <td>NaN</td>\n",
       "      <td>NaN</td>\n",
       "      <td>NaN</td>\n",
       "      <td>NaN</td>\n",
       "      <td>NaN</td>\n",
       "      <td>NaN</td>\n",
       "      <td>NaN</td>\n",
       "      <td>NaN</td>\n",
       "      <td>NaN</td>\n",
       "      <td>0aa05543a5c2</td>\n",
       "      <td>0xb827eb524fec</td>\n",
       "      <td>-0.104310</td>\n",
       "      <td>-86.0</td>\n",
       "      <td>-0.574</td>\n",
       "      <td>0.472</td>\n",
       "      <td>-0.500</td>\n",
       "    </tr>\n",
       "    <tr>\n",
       "      <th>2016-05-31 22:00:00.019952+00:00</th>\n",
       "      <td>NaN</td>\n",
       "      <td>NaN</td>\n",
       "      <td>NaN</td>\n",
       "      <td>NaN</td>\n",
       "      <td>NaN</td>\n",
       "      <td>NaN</td>\n",
       "      <td>NaN</td>\n",
       "      <td>NaN</td>\n",
       "      <td>NaN</td>\n",
       "      <td>NaN</td>\n",
       "      <td>NaN</td>\n",
       "      <td>0aa05543a5c2</td>\n",
       "      <td>0xb827eb524fec</td>\n",
       "      <td>-0.087636</td>\n",
       "      <td>-86.0</td>\n",
       "      <td>-0.690</td>\n",
       "      <td>0.338</td>\n",
       "      <td>-0.492</td>\n",
       "    </tr>\n",
       "  </tbody>\n",
       "</table>\n",
       "</div>"
      ],
      "text/plain": [
       "                                  cold-water  door  dust  electricity  hid  \\\n",
       "datetime                                                                     \n",
       "2016-05-31 21:59:59.919856+00:00         NaN   NaN   NaN          NaN  NaN   \n",
       "2016-05-31 21:59:59.969904+00:00         NaN   NaN   NaN          NaN  NaN   \n",
       "2016-05-31 22:00:00.019952+00:00         NaN   NaN   NaN          NaN  NaN   \n",
       "\n",
       "                                  hot-water  humidity  light  motion  noise  \\\n",
       "datetime                                                                      \n",
       "2016-05-31 21:59:59.919856+00:00        NaN       NaN    NaN     NaN    NaN   \n",
       "2016-05-31 21:59:59.969904+00:00        NaN       NaN    NaN     NaN    NaN   \n",
       "2016-05-31 22:00:00.019952+00:00        NaN       NaN    NaN     NaN    NaN   \n",
       "\n",
       "                                  temperature           uid             aid  \\\n",
       "datetime                                                                      \n",
       "2016-05-31 21:59:59.919856+00:00          NaN  0aa05543a5c2  0xb827eb524fec   \n",
       "2016-05-31 21:59:59.969904+00:00          NaN  0aa05543a5c2  0xb827eb524fec   \n",
       "2016-05-31 22:00:00.019952+00:00          NaN  0aa05543a5c2  0xb827eb524fec   \n",
       "\n",
       "                                  wearable-mag-xl1  wearable-rss  \\\n",
       "datetime                                                           \n",
       "2016-05-31 21:59:59.919856+00:00         -0.050446         -86.0   \n",
       "2016-05-31 21:59:59.969904+00:00         -0.104310         -86.0   \n",
       "2016-05-31 22:00:00.019952+00:00         -0.087636         -86.0   \n",
       "\n",
       "                                  wearable-xl1-x  wearable-xl1-y  \\\n",
       "datetime                                                           \n",
       "2016-05-31 21:59:59.919856+00:00          -0.648           0.238   \n",
       "2016-05-31 21:59:59.969904+00:00          -0.574           0.472   \n",
       "2016-05-31 22:00:00.019952+00:00          -0.690           0.338   \n",
       "\n",
       "                                  wearable-xl1-z  \n",
       "datetime                                          \n",
       "2016-05-31 21:59:59.919856+00:00          -0.652  \n",
       "2016-05-31 21:59:59.969904+00:00          -0.500  \n",
       "2016-05-31 22:00:00.019952+00:00          -0.492  "
      ]
     },
     "execution_count": 4,
     "metadata": {},
     "output_type": "execute_result"
    }
   ],
   "source": [
    "df[0][:3]"
   ]
  },
  {
   "cell_type": "markdown",
   "metadata": {},
   "source": [
    "## Sleep detection\n",
    "The model for sleep detection is focused on the magnitude of accelleration, given in the data as 'wearable-mag-xl1' - and the angular acceleration, defined as\n",
    "$$ \\theta_{\\text{arm}} = tan^{-1} \\bigg(\\frac{ a_{z} }{ \\sqrt{a_{x}^{2} + a_{y}^{2}} } \\bigg) $$\n",
    "by Vincent T. van Hees et. al. [http://journals.plos.org/plosone/article?id=10.1371/journal.pone.0142533](http://journals.plos.org/plosone/article?id=10.1371/journal.pone.0142533). Where $a_x$ $a_y$ and $a_z$ are the raw accelerometer data.\n",
    "\n",
    "The continous data is resampled into timesteps of 30 seconds (variable), to be able to classify the behaviour within each timestep. For each timestep the minimum, maximum and sum, as well as the 4 moments of the distribution for the magnitude and angle is extracted. These are the features used to classify each timestep.\n"
   ]
  },
  {
   "cell_type": "code",
   "execution_count": 5,
   "metadata": {
    "collapsed": true
   },
   "outputs": [],
   "source": [
    "def getFeatures(df):\n",
    "\n",
    "    # arm angle calculation using accelerometer data\n",
    "    df['angle'] = 180 / np.pi * np.arctan(df['wearable-xl1-z'] / np.sqrt(np.square(df['wearable-xl1-x']) + np.square(df['wearable-xl1-z'])))\n",
    "\n",
    "    # get only interesting columns\n",
    "    df = df[['angle', 'wearable-mag-xl1']]\n",
    "\n",
    "    # remove NaN values.\n",
    "    df = df.dropna()\n",
    "    # convert index to DatetimeIndex\n",
    "    df.index = pd.DatetimeIndex(df.index)\n",
    "\n",
    "\n",
    "    # resample data within interval given in resampleInterval ('30S' = 30 seconds intervals)\n",
    "    resampleInterval = '30S'\n",
    "    minimum = df.resample(resampleInterval).min()\n",
    "    maximum = df.resample(resampleInterval).max()\n",
    "    mean = df.resample(resampleInterval).mean()\n",
    "    std = df.resample(resampleInterval).std()\n",
    "    summ = df.resample(resampleInterval).sum()\n",
    "    skew = df.resample(resampleInterval).apply(lambda array : stats.skew(array))\n",
    "    kurtosis = df.resample(resampleInterval).apply(lambda array: stats.kurtosis(array, fisher=True))\n",
    "\n",
    "    # rename column labels in DataFrame\n",
    "    minimum.rename(columns={'angle': 'angle min'}, inplace=True)\n",
    "    minimum.rename(columns={'wearable-mag-xl1': 'magnitude min'}, inplace=True)\n",
    "    \n",
    "    maximum.rename(columns={'angle': 'angle max'}, inplace=True)\n",
    "    maximum.rename(columns={'wearable-mag-xl1': 'magnitude max'}, inplace=True)\n",
    "    \n",
    "    mean.rename(columns={'angle': 'angle mean'}, inplace=True)\n",
    "    mean.rename(columns={'wearable-mag-xl1': 'magnitude mean'}, inplace=True)\n",
    "    \n",
    "    std.rename(columns={'angle': 'angle std'}, inplace=True)\n",
    "    std.rename(columns={'wearable-mag-xl1': 'magnutude std'}, inplace=True)\n",
    "    \n",
    "    summ.rename(columns={'angle': 'angle sum'}, inplace=True)\n",
    "    summ.rename(columns={'wearable-mag-xl1': 'magnitude sum'}, inplace=True)\n",
    "    \n",
    "    skew.rename(columns={'angle': 'angle skew'}, inplace=True)\n",
    "    skew.rename(columns={'wearable-mag-xl1': 'magnitude skew'}, inplace=True)\n",
    "    \n",
    "    kurtosis.rename(columns={'angle': 'angle kurtosis'}, inplace=True)\n",
    "    kurtosis.rename(columns={'wearable-mag-xl1': 'magnitude kurtosis'}, inplace=True)\n",
    "    \n",
    "    # collect DataFrames\n",
    "    features = [minimum, maximum, mean, std, summ, skew, kurtosis]\n",
    "    features = pd.concat(features, axis=1)\n",
    "\n",
    "    \n",
    "    # for some weird reason new nans appear. \n",
    "    # need to drop them to have same shape on what to plot\n",
    "    features = features.dropna()\n",
    "    std = std.dropna()\n",
    "    \n",
    "    return [features, df, std]"
   ]
  },
  {
   "cell_type": "code",
   "execution_count": 6,
   "metadata": {
    "collapsed": true
   },
   "outputs": [],
   "source": [
    "# load features for each night\n",
    "allFeatures = []\n",
    "allDf = [] \n",
    "allStd = [] # needed to analyse data later\n",
    "for d in df:\n",
    "    [feature, dataf, std] = getFeatures(d)\n",
    "    allFeatures.append(feature)\n",
    "    allDf.append(dataf)\n",
    "    allStd.append(std)"
   ]
  },
  {
   "cell_type": "code",
   "execution_count": 7,
   "metadata": {
    "collapsed": false,
    "scrolled": true
   },
   "outputs": [
    {
     "data": {
      "text/html": [
       "<div>\n",
       "<table border=\"1\" class=\"dataframe\">\n",
       "  <thead>\n",
       "    <tr style=\"text-align: right;\">\n",
       "      <th></th>\n",
       "      <th>angle min</th>\n",
       "      <th>magnitude min</th>\n",
       "      <th>angle max</th>\n",
       "      <th>magnitude max</th>\n",
       "      <th>angle mean</th>\n",
       "      <th>magnitude mean</th>\n",
       "      <th>angle std</th>\n",
       "      <th>magnutude std</th>\n",
       "      <th>angle sum</th>\n",
       "      <th>magnitude sum</th>\n",
       "      <th>angle skew</th>\n",
       "      <th>magnitude skew</th>\n",
       "      <th>angle kurtosis</th>\n",
       "      <th>magnitude kurtosis</th>\n",
       "    </tr>\n",
       "    <tr>\n",
       "      <th>datetime</th>\n",
       "      <th></th>\n",
       "      <th></th>\n",
       "      <th></th>\n",
       "      <th></th>\n",
       "      <th></th>\n",
       "      <th></th>\n",
       "      <th></th>\n",
       "      <th></th>\n",
       "      <th></th>\n",
       "      <th></th>\n",
       "      <th></th>\n",
       "      <th></th>\n",
       "      <th></th>\n",
       "      <th></th>\n",
       "    </tr>\n",
       "  </thead>\n",
       "  <tbody>\n",
       "    <tr>\n",
       "      <th>2016-05-31 21:59:30</th>\n",
       "      <td>-35.347283</td>\n",
       "      <td>-0.104310</td>\n",
       "      <td>-33.298067</td>\n",
       "      <td>-0.050446</td>\n",
       "      <td>-34.322675</td>\n",
       "      <td>-0.077378</td>\n",
       "      <td>1.449014</td>\n",
       "      <td>0.038088</td>\n",
       "      <td>-68.645350</td>\n",
       "      <td>-0.154757</td>\n",
       "      <td>0.000000</td>\n",
       "      <td>-3.468861e-16</td>\n",
       "      <td>-2.000000</td>\n",
       "      <td>-2.000000</td>\n",
       "    </tr>\n",
       "    <tr>\n",
       "      <th>2016-05-31 22:00:00</th>\n",
       "      <td>-44.242768</td>\n",
       "      <td>-0.464056</td>\n",
       "      <td>44.999732</td>\n",
       "      <td>1.398286</td>\n",
       "      <td>40.649895</td>\n",
       "      <td>0.040098</td>\n",
       "      <td>15.760415</td>\n",
       "      <td>0.113589</td>\n",
       "      <td>24308.637005</td>\n",
       "      <td>23.978773</td>\n",
       "      <td>-4.289112</td>\n",
       "      <td>5.314573e+00</td>\n",
       "      <td>17.290617</td>\n",
       "      <td>56.542140</td>\n",
       "    </tr>\n",
       "    <tr>\n",
       "      <th>2016-05-31 22:00:30</th>\n",
       "      <td>43.876265</td>\n",
       "      <td>-0.035606</td>\n",
       "      <td>44.817952</td>\n",
       "      <td>0.040112</td>\n",
       "      <td>44.708130</td>\n",
       "      <td>0.017602</td>\n",
       "      <td>0.048915</td>\n",
       "      <td>0.010369</td>\n",
       "      <td>26780.169875</td>\n",
       "      <td>10.543596</td>\n",
       "      <td>-8.242328</td>\n",
       "      <td>-2.199196e+00</td>\n",
       "      <td>137.968548</td>\n",
       "      <td>7.758332</td>\n",
       "    </tr>\n",
       "  </tbody>\n",
       "</table>\n",
       "</div>"
      ],
      "text/plain": [
       "                     angle min  magnitude min  angle max  magnitude max  \\\n",
       "datetime                                                                  \n",
       "2016-05-31 21:59:30 -35.347283      -0.104310 -33.298067      -0.050446   \n",
       "2016-05-31 22:00:00 -44.242768      -0.464056  44.999732       1.398286   \n",
       "2016-05-31 22:00:30  43.876265      -0.035606  44.817952       0.040112   \n",
       "\n",
       "                     angle mean  magnitude mean  angle std  magnutude std  \\\n",
       "datetime                                                                    \n",
       "2016-05-31 21:59:30  -34.322675       -0.077378   1.449014       0.038088   \n",
       "2016-05-31 22:00:00   40.649895        0.040098  15.760415       0.113589   \n",
       "2016-05-31 22:00:30   44.708130        0.017602   0.048915       0.010369   \n",
       "\n",
       "                        angle sum  magnitude sum  angle skew  magnitude skew  \\\n",
       "datetime                                                                       \n",
       "2016-05-31 21:59:30    -68.645350      -0.154757    0.000000   -3.468861e-16   \n",
       "2016-05-31 22:00:00  24308.637005      23.978773   -4.289112    5.314573e+00   \n",
       "2016-05-31 22:00:30  26780.169875      10.543596   -8.242328   -2.199196e+00   \n",
       "\n",
       "                     angle kurtosis  magnitude kurtosis  \n",
       "datetime                                                 \n",
       "2016-05-31 21:59:30       -2.000000           -2.000000  \n",
       "2016-05-31 22:00:00       17.290617           56.542140  \n",
       "2016-05-31 22:00:30      137.968548            7.758332  "
      ]
     },
     "execution_count": 7,
     "metadata": {},
     "output_type": "execute_result"
    }
   ],
   "source": [
    "allFeatures[0][:3]"
   ]
  },
  {
   "cell_type": "markdown",
   "metadata": {},
   "source": [
    "### Preprocessing\n",
    "To train the model we want the data for all nights in the same model, we are therefore gathering the dataframes. To have the same weighting on all features, we are normalising their weights. Also normalise the features for each individual night to be used for testing."
   ]
  },
  {
   "cell_type": "code",
   "execution_count": 8,
   "metadata": {
    "collapsed": true
   },
   "outputs": [],
   "source": [
    "# normalise the feature values between a 0 1 range\n",
    "def norm(features):\n",
    "    features_array = features.values #return a numpy array\n",
    "    min_max_scalar = preprocessing.MinMaxScaler()\n",
    "    normalise = min_max_scalar.fit_transform(features_array)\n",
    "    normalised_features = pd.DataFrame(normalise)\n",
    "\n",
    "    # rename index and columns\n",
    "    normalised_features.columns = features.columns\n",
    "    normalised_features.index = features.index\n",
    "\n",
    "    features = normalised_features.copy(deep=True)\n",
    "    return features"
   ]
  },
  {
   "cell_type": "code",
   "execution_count": 9,
   "metadata": {
    "collapsed": true
   },
   "outputs": [],
   "source": [
    "# put all data in same df\n",
    "data = pd.concat(allFeatures, axis=0)\n",
    "\n",
    "# normalise the data\n",
    "data = norm(data)"
   ]
  },
  {
   "cell_type": "code",
   "execution_count": 10,
   "metadata": {
    "collapsed": true
   },
   "outputs": [],
   "source": [
    "# normalise features for later extraction\n",
    "normalisedFeatures = []\n",
    "for feature in allFeatures:\n",
    "    feat = norm(feature)\n",
    "    normalisedFeatures.append(feat)"
   ]
  },
  {
   "cell_type": "markdown",
   "metadata": {},
   "source": [
    "### Save/load data\n",
    "Full dataset sumulations are a bit slow. Since most heavy calculations are made before this point, following commands offer the possibility to save/load the data used for the rest of the analysis."
   ]
  },
  {
   "cell_type": "code",
   "execution_count": 11,
   "metadata": {
    "collapsed": true
   },
   "outputs": [],
   "source": [
    "# save data to pkl\n",
    "pickle.dump(normalisedFeatures, open('normalisedFeatures.pkl','wb'))\n",
    "data.to_pickle('normalisedDays.pkl')"
   ]
  },
  {
   "cell_type": "code",
   "execution_count": 12,
   "metadata": {
    "collapsed": true
   },
   "outputs": [],
   "source": [
    "# load pickled data\n",
    "data = pd.read_pickle('normalisedDays.pkl')\n",
    "normalisedFeatures = pickle.load(open('normalisedFeatures.pkl','rb'))"
   ]
  },
  {
   "cell_type": "markdown",
   "metadata": {},
   "source": [
    "### Classification\n",
    "Use K-Means to cluster data.\n",
    "\n",
    "TODO: assess quality of clusters by checking distance between centroids to find optimal amount of clusters."
   ]
  },
  {
   "cell_type": "code",
   "execution_count": 13,
   "metadata": {
    "collapsed": true
   },
   "outputs": [],
   "source": [
    "# cluster data for visualisation\n",
    "label = KMeans().fit_predict(data)\n",
    "\n",
    "# fit model to data to use for further analysis\n",
    "trainModel = KMeans().fit(data)"
   ]
  },
  {
   "cell_type": "code",
   "execution_count": 14,
   "metadata": {
    "collapsed": false
   },
   "outputs": [
    {
     "data": {
      "text/plain": [
       "<matplotlib.colorbar.Colorbar at 0x129d1e828>"
      ]
     },
     "execution_count": 14,
     "metadata": {},
     "output_type": "execute_result"
    },
    {
     "data": {
      "image/png": "[encoded data removed]",
      "text/plain": [
       "<matplotlib.figure.Figure at 0x17ce54fd0>"
      ]
     },
     "metadata": {},
     "output_type": "display_data"
    }
   ],
   "source": [
    "# plot PCA of clusters\n",
    "fig = plt.figure(1, figsize=(4, 3))\n",
    "plt.clf()\n",
    "ax = Axes3D(fig, rect=[0, 0, .95, 1], elev=48, azim=134)\n",
    "\n",
    "plt.cla()\n",
    "pca = decomposition.PCA(n_components=3)\n",
    "pca.fit(data)\n",
    "X = pca.transform(data)\n",
    "\n",
    "# only needed for non int labels (I think)\n",
    "# y = np.choose(label, [1, 2, 0]).astype(np.float)\n",
    "\n",
    "pca_plot = ax.scatter(X[:, 0], X[:, 1], X[:, 2], c=label, cmap=plt.cm.spectral) # alt. cmap='spring'\n",
    "\n",
    "ax.w_xaxis.set_ticklabels([])\n",
    "ax.w_yaxis.set_ticklabels([])\n",
    "ax.w_zaxis.set_ticklabels([])\n",
    "fig.colorbar(pca_plot, ax=ax)"
   ]
  },
  {
   "cell_type": "markdown",
   "metadata": {},
   "source": [
    "### Interpret classification\n",
    "Each cluster now represent specific behaviour throughout the night. To interpret this we use the definition by by Vincent T. van Hees et. al. [http://journals.plos.org/plosone/article?id=10.1371/journal.pone.0142533](http://journals.plos.org/plosone/article?id=10.1371/journal.pone.0142533), that an angular movement less then 5° during a 5 minute period can be interpreted as sleep. The standard deviation of the resampled arm angle gives an understanding of how much the arm was moved during the resample interval. With labels from the clustering the data with label 2, 4 and 5\n",
    "seem to identify an awake behaviour as seen in the figure below:"
   ]
  },
  {
   "cell_type": "code",
   "execution_count": 15,
   "metadata": {
    "collapsed": false
   },
   "outputs": [
    {
     "data": {
      "text/plain": [
       "<matplotlib.colorbar.Colorbar at 0x13c06dac8>"
      ]
     },
     "execution_count": 15,
     "metadata": {},
     "output_type": "execute_result"
    },
    {
     "data": {
      "image/png": "[encoded data removed]",
      "text/plain": [
       "<matplotlib.figure.Figure at 0x118502550>"
      ]
     },
     "metadata": {},
     "output_type": "display_data"
    }
   ],
   "source": [
    "# scatter of labelled data (time index instead of timestamp to collect between days)\n",
    "dots = pd.DataFrame(data['angle std'].values)\n",
    "\n",
    "plt.scatter(dots.index, dots.values, c=label, cmap=plt.cm.spectral)\n",
    "plt.colorbar()"
   ]
  },
  {
   "cell_type": "code",
   "execution_count": 16,
   "metadata": {
    "collapsed": true
   },
   "outputs": [],
   "source": [
    "# to reduce complexity of problem it is possible to merge clusters with similar features\n",
    "# to more clearly distinguish specific features\n",
    "\n",
    "def mergeCusters(label):\n",
    "    label[label == 0] = 0\n",
    "    label[label == 1] = 0\n",
    "    label[label == 2] = 0\n",
    "    label[label == 3] = 1\n",
    "    label[label == 4] = 0\n",
    "    label[label == 5] = 0\n",
    "    label[label == 6] = 0\n",
    "    label[label == 7] = 1\n",
    "    return label"
   ]
  },
  {
   "cell_type": "markdown",
   "metadata": {},
   "source": [
    "### Validating model\n",
    "To validate the model we use a dataset where we know the data represent an awake phase, and test that in our model. As seen in figure below, the majority of the test data is predicted as awake (4). The model may be improved with larger test set of labeled data."
   ]
  },
  {
   "cell_type": "code",
   "execution_count": 17,
   "metadata": {
    "collapsed": false
   },
   "outputs": [
    {
     "name": "stderr",
     "output_type": "stream",
     "text": [
      "//anaconda/lib/python3.6/site-packages/ipykernel/__main__.py:4: SettingWithCopyWarning: \n",
      "A value is trying to be set on a copy of a slice from a DataFrame.\n",
      "Try using .loc[row_indexer,col_indexer] = value instead\n",
      "\n",
      "See the caveats in the documentation: http://pandas.pydata.org/pandas-docs/stable/indexing.html#indexing-view-versus-copy\n"
     ]
    }
   ],
   "source": [
    "# get awake data (assumed awake by analysing accelerometer data)\n",
    "d = df[4]\n",
    "\n",
    "[features, std, dd] = getFeatures(d[-5000:])\n",
    "\n",
    "normFeat = norm(features)\n",
    "\n",
    "testLabel = trainModel.predict(normFeat)"
   ]
  },
  {
   "cell_type": "code",
   "execution_count": 18,
   "metadata": {
    "collapsed": false
   },
   "outputs": [
    {
     "data": {
      "text/plain": [
       "<matplotlib.colorbar.Colorbar at 0x13ce32f60>"
      ]
     },
     "execution_count": 18,
     "metadata": {},
     "output_type": "execute_result"
    },
    {
     "data": {
      "image/png": "[encoded data removed]",
      "text/plain": [
       "<matplotlib.figure.Figure at 0x1184eee48>"
      ]
     },
     "metadata": {},
     "output_type": "display_data"
    }
   ],
   "source": [
    "# plot PCA of clusters\n",
    "fig = plt.figure(1, figsize=(4, 3))\n",
    "plt.clf()\n",
    "ax = Axes3D(fig, rect=[0, 0, .95, 1], elev=48, azim=134)\n",
    "\n",
    "plt.cla()\n",
    "pca = decomposition.PCA(n_components=3)\n",
    "pca.fit(normFeat)\n",
    "X = pca.transform(normFeat)\n",
    "\n",
    "# only needed for non int labels (I think)\n",
    "# y = np.choose(label, [1, 2, 0]).astype(np.float)\n",
    "\n",
    "pca_plot = ax.scatter(X[:, 0], X[:, 1], X[:, 2], c=testLabel, cmap=plt.cm.spectral) # alt. cmap='spring'\n",
    "\n",
    "ax.w_xaxis.set_ticklabels([])\n",
    "ax.w_yaxis.set_ticklabels([])\n",
    "ax.w_zaxis.set_ticklabels([])\n",
    "fig.colorbar(pca_plot, ax=ax)"
   ]
  },
  {
   "cell_type": "markdown",
   "metadata": {},
   "source": [
    "## Night quality assessment\n",
    "To analyse the quality of a night, we need to compress the time series features into single values. Realised in similar fasion as the sleep detection by taking the four moments over the time series, and combining to a 1D array of features per night.\n",
    "\n",
    "TODO: The timeseries themselves ought to be possible to use if implementing 'Metric Learning'.\n",
    "\n",
    "The features used for this classification is the raw sensor values. Initial approach was to use the extracted (resampled) features from the sleep classification, with data classified as awake removed to counteract bias. But to capture the complete behaviour during the night, this version focus on using the entire nights sensor values. A more complete classification can be achieved by using the entire time series."
   ]
  },
  {
   "cell_type": "code",
   "execution_count": 19,
   "metadata": {
    "collapsed": false,
    "scrolled": true
   },
   "outputs": [
    {
     "name": "stderr",
     "output_type": "stream",
     "text": [
      "//anaconda/lib/python3.6/site-packages/sklearn/preprocessing/data.py:321: DeprecationWarning: Passing 1d arrays as data is deprecated in 0.17 and will raise ValueError in 0.19. Reshape your data either using X.reshape(-1, 1) if your data has a single feature or X.reshape(1, -1) if it contains a single sample.\n",
      "  warnings.warn(DEPRECATION_MSG_1D, DeprecationWarning)\n",
      "//anaconda/lib/python3.6/site-packages/sklearn/preprocessing/data.py:356: DeprecationWarning: Passing 1d arrays as data is deprecated in 0.17 and will raise ValueError in 0.19. Reshape your data either using X.reshape(-1, 1) if your data has a single feature or X.reshape(1, -1) if it contains a single sample.\n",
      "  warnings.warn(DEPRECATION_MSG_1D, DeprecationWarning)\n",
      "//anaconda/lib/python3.6/site-packages/sklearn/preprocessing/data.py:321: DeprecationWarning: Passing 1d arrays as data is deprecated in 0.17 and will raise ValueError in 0.19. Reshape your data either using X.reshape(-1, 1) if your data has a single feature or X.reshape(1, -1) if it contains a single sample.\n",
      "  warnings.warn(DEPRECATION_MSG_1D, DeprecationWarning)\n",
      "//anaconda/lib/python3.6/site-packages/sklearn/preprocessing/data.py:356: DeprecationWarning: Passing 1d arrays as data is deprecated in 0.17 and will raise ValueError in 0.19. Reshape your data either using X.reshape(-1, 1) if your data has a single feature or X.reshape(1, -1) if it contains a single sample.\n",
      "  warnings.warn(DEPRECATION_MSG_1D, DeprecationWarning)\n",
      "//anaconda/lib/python3.6/site-packages/sklearn/preprocessing/data.py:321: DeprecationWarning: Passing 1d arrays as data is deprecated in 0.17 and will raise ValueError in 0.19. Reshape your data either using X.reshape(-1, 1) if your data has a single feature or X.reshape(1, -1) if it contains a single sample.\n",
      "  warnings.warn(DEPRECATION_MSG_1D, DeprecationWarning)\n",
      "//anaconda/lib/python3.6/site-packages/sklearn/preprocessing/data.py:356: DeprecationWarning: Passing 1d arrays as data is deprecated in 0.17 and will raise ValueError in 0.19. Reshape your data either using X.reshape(-1, 1) if your data has a single feature or X.reshape(1, -1) if it contains a single sample.\n",
      "  warnings.warn(DEPRECATION_MSG_1D, DeprecationWarning)\n",
      "//anaconda/lib/python3.6/site-packages/sklearn/preprocessing/data.py:321: DeprecationWarning: Passing 1d arrays as data is deprecated in 0.17 and will raise ValueError in 0.19. Reshape your data either using X.reshape(-1, 1) if your data has a single feature or X.reshape(1, -1) if it contains a single sample.\n",
      "  warnings.warn(DEPRECATION_MSG_1D, DeprecationWarning)\n",
      "//anaconda/lib/python3.6/site-packages/sklearn/preprocessing/data.py:356: DeprecationWarning: Passing 1d arrays as data is deprecated in 0.17 and will raise ValueError in 0.19. Reshape your data either using X.reshape(-1, 1) if your data has a single feature or X.reshape(1, -1) if it contains a single sample.\n",
      "  warnings.warn(DEPRECATION_MSG_1D, DeprecationWarning)\n",
      "//anaconda/lib/python3.6/site-packages/sklearn/preprocessing/data.py:321: DeprecationWarning: Passing 1d arrays as data is deprecated in 0.17 and will raise ValueError in 0.19. Reshape your data either using X.reshape(-1, 1) if your data has a single feature or X.reshape(1, -1) if it contains a single sample.\n",
      "  warnings.warn(DEPRECATION_MSG_1D, DeprecationWarning)\n",
      "//anaconda/lib/python3.6/site-packages/sklearn/preprocessing/data.py:356: DeprecationWarning: Passing 1d arrays as data is deprecated in 0.17 and will raise ValueError in 0.19. Reshape your data either using X.reshape(-1, 1) if your data has a single feature or X.reshape(1, -1) if it contains a single sample.\n",
      "  warnings.warn(DEPRECATION_MSG_1D, DeprecationWarning)\n",
      "//anaconda/lib/python3.6/site-packages/sklearn/preprocessing/data.py:321: DeprecationWarning: Passing 1d arrays as data is deprecated in 0.17 and will raise ValueError in 0.19. Reshape your data either using X.reshape(-1, 1) if your data has a single feature or X.reshape(1, -1) if it contains a single sample.\n",
      "  warnings.warn(DEPRECATION_MSG_1D, DeprecationWarning)\n",
      "//anaconda/lib/python3.6/site-packages/sklearn/preprocessing/data.py:356: DeprecationWarning: Passing 1d arrays as data is deprecated in 0.17 and will raise ValueError in 0.19. Reshape your data either using X.reshape(-1, 1) if your data has a single feature or X.reshape(1, -1) if it contains a single sample.\n",
      "  warnings.warn(DEPRECATION_MSG_1D, DeprecationWarning)\n",
      "//anaconda/lib/python3.6/site-packages/sklearn/preprocessing/data.py:321: DeprecationWarning: Passing 1d arrays as data is deprecated in 0.17 and will raise ValueError in 0.19. Reshape your data either using X.reshape(-1, 1) if your data has a single feature or X.reshape(1, -1) if it contains a single sample.\n",
      "  warnings.warn(DEPRECATION_MSG_1D, DeprecationWarning)\n",
      "//anaconda/lib/python3.6/site-packages/sklearn/preprocessing/data.py:356: DeprecationWarning: Passing 1d arrays as data is deprecated in 0.17 and will raise ValueError in 0.19. Reshape your data either using X.reshape(-1, 1) if your data has a single feature or X.reshape(1, -1) if it contains a single sample.\n",
      "  warnings.warn(DEPRECATION_MSG_1D, DeprecationWarning)\n",
      "//anaconda/lib/python3.6/site-packages/sklearn/preprocessing/data.py:321: DeprecationWarning: Passing 1d arrays as data is deprecated in 0.17 and will raise ValueError in 0.19. Reshape your data either using X.reshape(-1, 1) if your data has a single feature or X.reshape(1, -1) if it contains a single sample.\n",
      "  warnings.warn(DEPRECATION_MSG_1D, DeprecationWarning)\n",
      "//anaconda/lib/python3.6/site-packages/sklearn/preprocessing/data.py:356: DeprecationWarning: Passing 1d arrays as data is deprecated in 0.17 and will raise ValueError in 0.19. Reshape your data either using X.reshape(-1, 1) if your data has a single feature or X.reshape(1, -1) if it contains a single sample.\n",
      "  warnings.warn(DEPRECATION_MSG_1D, DeprecationWarning)\n",
      "//anaconda/lib/python3.6/site-packages/sklearn/preprocessing/data.py:321: DeprecationWarning: Passing 1d arrays as data is deprecated in 0.17 and will raise ValueError in 0.19. Reshape your data either using X.reshape(-1, 1) if your data has a single feature or X.reshape(1, -1) if it contains a single sample.\n",
      "  warnings.warn(DEPRECATION_MSG_1D, DeprecationWarning)\n",
      "//anaconda/lib/python3.6/site-packages/sklearn/preprocessing/data.py:356: DeprecationWarning: Passing 1d arrays as data is deprecated in 0.17 and will raise ValueError in 0.19. Reshape your data either using X.reshape(-1, 1) if your data has a single feature or X.reshape(1, -1) if it contains a single sample.\n",
      "  warnings.warn(DEPRECATION_MSG_1D, DeprecationWarning)\n"
     ]
    }
   ],
   "source": [
    "nightFeatures = []\n",
    "\n",
    "for d in df:\n",
    "    features = d[['light','noise','temperature','wearable-mag-xl1','wearable-xl1-x','wearable-xl1-y','wearable-xl1-z']] \n",
    "    feat = np.concatenate((features.mean(), features.std(), features.skew(), features.kurt()), axis=0)\n",
    "    min_max_scalar = preprocessing.MinMaxScaler()\n",
    "    normalise = min_max_scalar.fit_transform(feat)\n",
    "    nightFeatures.append(normalise)"
   ]
  },
  {
   "cell_type": "markdown",
   "metadata": {},
   "source": [
    "### Supervised learning\n",
    "\n",
    "Using the sleep diaries provided, we can match the features of the environment and accelerometer through a night to a label provided by the diary entry of that night. The current implementation only consider the \"Quality of Sleep\" as label, converting the labels to numerics by 'Poor' = 0, 'Fair' = 1, 'Good' = 3 and 'Very good' = 4. \n",
    "\n",
    "The ideal implementation would be to use the features through the sleep detection as labels for the environmental/accelerometer data through a night. Our initial hypothesis was that the amount of REM sleep could be used as a quantitative way of measuring sleep quality. But this hypothesis was discouraged after reasearch as an inappropriate factor [http://healthysleep.med.harvard.edu/healthy/science/what/sleep-patterns-rem-nrem](http://healthysleep.med.harvard.edu/healthy/science/what/sleep-patterns-rem-nrem).\n",
    "\n",
    "For the moment we are content using the self assessed sleep quality from the sleep diaries."
   ]
  },
  {
   "cell_type": "code",
   "execution_count": 20,
   "metadata": {
    "collapsed": false
   },
   "outputs": [
    {
     "data": {
      "text/html": [
       "<div>\n",
       "<table border=\"1\" class=\"dataframe\">\n",
       "  <thead>\n",
       "    <tr style=\"text-align: right;\">\n",
       "      <th></th>\n",
       "      <th>Date</th>\n",
       "      <th>Time in Bed</th>\n",
       "      <th>Time to Sleep</th>\n",
       "      <th>Time to fall asleep (minutes)</th>\n",
       "      <th>Wake up time</th>\n",
       "      <th>Time to get up</th>\n",
       "      <th>Quality of Sleep</th>\n",
       "      <th>How Refreshed</th>\n",
       "      <th>Normal Night</th>\n",
       "      <th>Comments</th>\n",
       "    </tr>\n",
       "    <tr>\n",
       "      <th>Participant</th>\n",
       "      <th></th>\n",
       "      <th></th>\n",
       "      <th></th>\n",
       "      <th></th>\n",
       "      <th></th>\n",
       "      <th></th>\n",
       "      <th></th>\n",
       "      <th></th>\n",
       "      <th></th>\n",
       "      <th></th>\n",
       "    </tr>\n",
       "  </thead>\n",
       "  <tbody>\n",
       "    <tr>\n",
       "      <th>1</th>\n",
       "      <td>01/06</td>\n",
       "      <td>23:00</td>\n",
       "      <td>23:30</td>\n",
       "      <td>5</td>\n",
       "      <td>07:00</td>\n",
       "      <td>07:00</td>\n",
       "      <td>Poor</td>\n",
       "      <td>Somewhat</td>\n",
       "      <td>Yes</td>\n",
       "      <td>-</td>\n",
       "    </tr>\n",
       "    <tr>\n",
       "      <th>1</th>\n",
       "      <td>02/06</td>\n",
       "      <td>23:30</td>\n",
       "      <td>00:00</td>\n",
       "      <td>5</td>\n",
       "      <td>06:30</td>\n",
       "      <td>06:30</td>\n",
       "      <td>Fair</td>\n",
       "      <td>Somewhat</td>\n",
       "      <td>Yes</td>\n",
       "      <td>-</td>\n",
       "    </tr>\n",
       "    <tr>\n",
       "      <th>1</th>\n",
       "      <td>03/06</td>\n",
       "      <td>23:00</td>\n",
       "      <td>23:30</td>\n",
       "      <td>5</td>\n",
       "      <td>07:00</td>\n",
       "      <td>07:00</td>\n",
       "      <td>Fair</td>\n",
       "      <td>Somewhat</td>\n",
       "      <td>Yes</td>\n",
       "      <td>-</td>\n",
       "    </tr>\n",
       "    <tr>\n",
       "      <th>14</th>\n",
       "      <td>20/04</td>\n",
       "      <td>23:00</td>\n",
       "      <td>23:10</td>\n",
       "      <td>60</td>\n",
       "      <td>08:20</td>\n",
       "      <td>08:25</td>\n",
       "      <td>Fair</td>\n",
       "      <td>Refreshed</td>\n",
       "      <td>No</td>\n",
       "      <td>woken by very noisy birds in the morning</td>\n",
       "    </tr>\n",
       "    <tr>\n",
       "      <th>14</th>\n",
       "      <td>21/04</td>\n",
       "      <td>22:30</td>\n",
       "      <td>23:00</td>\n",
       "      <td>60</td>\n",
       "      <td>07:55</td>\n",
       "      <td>08:00</td>\n",
       "      <td>Fair</td>\n",
       "      <td>Refreshed</td>\n",
       "      <td>No</td>\n",
       "      <td>Car alarm went off in the night</td>\n",
       "    </tr>\n",
       "  </tbody>\n",
       "</table>\n",
       "</div>"
      ],
      "text/plain": [
       "              Date Time in Bed Time to Sleep Time to fall asleep (minutes)  \\\n",
       "Participant                                                                  \n",
       "1            01/06       23:00         23:30                             5   \n",
       "1            02/06       23:30         00:00                             5   \n",
       "1            03/06       23:00         23:30                             5   \n",
       "14           20/04       23:00         23:10                            60   \n",
       "14           21/04       22:30         23:00                            60   \n",
       "\n",
       "            Wake up time Time to get up Quality of Sleep How Refreshed  \\\n",
       "Participant                                                              \n",
       "1                  07:00          07:00             Poor      Somewhat   \n",
       "1                  06:30          06:30             Fair      Somewhat   \n",
       "1                  07:00          07:00             Fair      Somewhat   \n",
       "14                 08:20          08:25             Fair     Refreshed   \n",
       "14                 07:55          08:00             Fair     Refreshed   \n",
       "\n",
       "            Normal Night                                  Comments  \n",
       "Participant                                                         \n",
       "1                    Yes                                         -  \n",
       "1                    Yes                                         -  \n",
       "1                    Yes                                         -  \n",
       "14                    No  woken by very noisy birds in the morning  \n",
       "14                    No           Car alarm went off in the night  "
      ]
     },
     "execution_count": 20,
     "metadata": {},
     "output_type": "execute_result"
    }
   ],
   "source": [
    "# load sleep diaries\n",
    "\n",
    "path = find('Sleep Data Research - ASD Morning.csv','/irc-sphere-sleep-56db93f64661/Sphere-csv-data/')\n",
    "\n",
    "if path is not None:\n",
    "    if 'gz' in path:\n",
    "        fileName = path\n",
    "        data = pd.read_csv(path, skiprows=1, index_col='Participant', compression='gzip')\n",
    "    else: \n",
    "        data = pd.read_csv(path, skiprows=1, index_col='Participant')\n",
    "data[:5]"
   ]
  },
  {
   "cell_type": "code",
   "execution_count": 21,
   "metadata": {
    "collapsed": true
   },
   "outputs": [],
   "source": [
    "# convert 'Quality of Sleep' to numeric labels\n",
    "allLabels = []\n",
    "for d in data['Quality of Sleep']:\n",
    "    if(d == 'Poor'):\n",
    "        allLabels.append(0)\n",
    "    elif(d == 'Fair'):\n",
    "        allLabels.append(1)\n",
    "    elif(d == 'Good'):\n",
    "        allLabels.append(2)\n",
    "    else:\n",
    "        allLabels.append(3)\n",
    "\n",
    "# get only labels for trainingData\n",
    "labels = []\n",
    "for i in range(len(allFeatures)):\n",
    "    labels.append(allLabels[i])"
   ]
  },
  {
   "cell_type": "markdown",
   "metadata": {},
   "source": [
    "### Cross validation\n",
    "\n",
    "To assess the quality of our model we have to predict the label of testing data given training data. But since our test set is so small (only 9 nights with both sensor and diary data) we will use cross validation. We will remove one night and its label from the training data set to use as testing data, and train the KNN classifier on remaining nights, then use the model to predict the label of the testing night. Then systematically repeat this process for each of the nights."
   ]
  },
  {
   "cell_type": "code",
   "execution_count": 22,
   "metadata": {
    "collapsed": false,
    "scrolled": true
   },
   "outputs": [
    {
     "name": "stderr",
     "output_type": "stream",
     "text": [
      "//anaconda/lib/python3.6/site-packages/sklearn/utils/validation.py:395: DeprecationWarning: Passing 1d arrays as data is deprecated in 0.17 and will raise ValueError in 0.19. Reshape your data either using X.reshape(-1, 1) if your data has a single feature or X.reshape(1, -1) if it contains a single sample.\n",
      "  DeprecationWarning)\n",
      "//anaconda/lib/python3.6/site-packages/sklearn/utils/validation.py:395: DeprecationWarning: Passing 1d arrays as data is deprecated in 0.17 and will raise ValueError in 0.19. Reshape your data either using X.reshape(-1, 1) if your data has a single feature or X.reshape(1, -1) if it contains a single sample.\n",
      "  DeprecationWarning)\n",
      "//anaconda/lib/python3.6/site-packages/sklearn/utils/validation.py:395: DeprecationWarning: Passing 1d arrays as data is deprecated in 0.17 and will raise ValueError in 0.19. Reshape your data either using X.reshape(-1, 1) if your data has a single feature or X.reshape(1, -1) if it contains a single sample.\n",
      "  DeprecationWarning)\n",
      "//anaconda/lib/python3.6/site-packages/sklearn/utils/validation.py:395: DeprecationWarning: Passing 1d arrays as data is deprecated in 0.17 and will raise ValueError in 0.19. Reshape your data either using X.reshape(-1, 1) if your data has a single feature or X.reshape(1, -1) if it contains a single sample.\n",
      "  DeprecationWarning)\n",
      "//anaconda/lib/python3.6/site-packages/sklearn/utils/validation.py:395: DeprecationWarning: Passing 1d arrays as data is deprecated in 0.17 and will raise ValueError in 0.19. Reshape your data either using X.reshape(-1, 1) if your data has a single feature or X.reshape(1, -1) if it contains a single sample.\n",
      "  DeprecationWarning)\n",
      "//anaconda/lib/python3.6/site-packages/sklearn/utils/validation.py:395: DeprecationWarning: Passing 1d arrays as data is deprecated in 0.17 and will raise ValueError in 0.19. Reshape your data either using X.reshape(-1, 1) if your data has a single feature or X.reshape(1, -1) if it contains a single sample.\n",
      "  DeprecationWarning)\n",
      "//anaconda/lib/python3.6/site-packages/sklearn/utils/validation.py:395: DeprecationWarning: Passing 1d arrays as data is deprecated in 0.17 and will raise ValueError in 0.19. Reshape your data either using X.reshape(-1, 1) if your data has a single feature or X.reshape(1, -1) if it contains a single sample.\n",
      "  DeprecationWarning)\n",
      "//anaconda/lib/python3.6/site-packages/sklearn/utils/validation.py:395: DeprecationWarning: Passing 1d arrays as data is deprecated in 0.17 and will raise ValueError in 0.19. Reshape your data either using X.reshape(-1, 1) if your data has a single feature or X.reshape(1, -1) if it contains a single sample.\n",
      "  DeprecationWarning)\n",
      "//anaconda/lib/python3.6/site-packages/sklearn/utils/validation.py:395: DeprecationWarning: Passing 1d arrays as data is deprecated in 0.17 and will raise ValueError in 0.19. Reshape your data either using X.reshape(-1, 1) if your data has a single feature or X.reshape(1, -1) if it contains a single sample.\n",
      "  DeprecationWarning)\n"
     ]
    }
   ],
   "source": [
    "predictions = []\n",
    "\n",
    "for i,n in enumerate(nightFeatures):\n",
    "    feature = np.delete(nightFeatures, i, axis=0)\n",
    "    lbl = np.delete(labels, i)\n",
    "    knn = KNeighborsClassifier(n_neighbors=1)\n",
    "    knn.fit(feature, lbl)\n",
    "    predict = knn.predict(nightFeatures[i])\n",
    "    predictions.append(predict)"
   ]
  },
  {
   "cell_type": "markdown",
   "metadata": {},
   "source": [
    "### Visualising true labels\n",
    "The labels given by the sleep diaries"
   ]
  },
  {
   "cell_type": "code",
   "execution_count": 23,
   "metadata": {
    "collapsed": false
   },
   "outputs": [
    {
     "data": {
      "text/plain": [
       "[]"
      ]
     },
     "execution_count": 23,
     "metadata": {},
     "output_type": "execute_result"
    },
    {
     "data": {
      "image/png": "[encoded data removed]",
      "text/plain": [
       "<matplotlib.figure.Figure at 0x12a8e96a0>"
      ]
     },
     "metadata": {},
     "output_type": "display_data"
    }
   ],
   "source": [
    "# make PCA (dimensionality reduction) to 3D and plot\n",
    "# with TRUE labels\n",
    "\n",
    "fig = plt.figure(1, figsize=(4, 3))\n",
    "plt.clf()\n",
    "ax = Axes3D(fig, rect=[0, 0, .95, 1], elev=48, azim=134)\n",
    "\n",
    "plt.cla()\n",
    "pca = decomposition.PCA(n_components=3)\n",
    "pca.fit(nightFeatures)\n",
    "X = pca.transform(nightFeatures)\n",
    "\n",
    "# only needed for non int labels (I think)\n",
    "# y = np.choose(label, [1, 2, 0]).astype(np.float)\n",
    "\n",
    "pca_plot = ax.scatter(X[:, 0], X[:, 1], X[:, 2], c=labels, cmap=plt.cm.spectral) # alt. cmap='spring'\n",
    "fig.colorbar(pca_plot, ax=ax)\n",
    "\n",
    "ax.w_xaxis.set_ticklabels([])\n",
    "ax.w_yaxis.set_ticklabels([])\n",
    "ax.w_zaxis.set_ticklabels([])"
   ]
  },
  {
   "cell_type": "markdown",
   "metadata": {},
   "source": [
    "### Visualising predicted labels\n",
    "The labels predicted by the model"
   ]
  },
  {
   "cell_type": "code",
   "execution_count": 24,
   "metadata": {
    "collapsed": false
   },
   "outputs": [
    {
     "data": {
      "text/plain": [
       "[]"
      ]
     },
     "execution_count": 24,
     "metadata": {},
     "output_type": "execute_result"
    },
    {
     "data": {
      "image/png": "[encoded data removed]",
      "text/plain": [
       "<matplotlib.figure.Figure at 0x122b831d0>"
      ]
     },
     "metadata": {},
     "output_type": "display_data"
    }
   ],
   "source": [
    "# make PCA (dimensionality reduction) to 3D and plot\n",
    "# with PREDICTED labels\n",
    "from mpl_toolkits.mplot3d import Axes3D\n",
    "fig = plt.figure(1, figsize=(4, 3))\n",
    "plt.clf()\n",
    "ax = Axes3D(fig, rect=[0, 0, .95, 1], elev=48, azim=134)\n",
    "\n",
    "plt.cla()\n",
    "pca = decomposition.PCA(n_components=3)\n",
    "pca.fit(nightFeatures)\n",
    "X = pca.transform(nightFeatures)\n",
    "\n",
    "# only needed for non int labels (I think)\n",
    "# y = np.choose(label, [1, 2, 0]).astype(np.float)\n",
    "\n",
    "pca_plot = ax.scatter(X[:, 0], X[:, 1], X[:, 2], c=predictions, cmap=plt.cm.spectral) # alt. cmap='spring'\n",
    "fig.colorbar(pca_plot, ax=ax)\n",
    "\n",
    "ax.w_xaxis.set_ticklabels([])\n",
    "ax.w_yaxis.set_ticklabels([])\n",
    "ax.w_zaxis.set_ticklabels([])"
   ]
  },
  {
   "cell_type": "markdown",
   "metadata": {},
   "source": [
    "### Interpreting results\n",
    "As we can see the predictor does not predict the labels very accurately. This is assuemd to be due to the low amount of data, more data ought to improve the accuracy. "
   ]
  },
  {
   "cell_type": "markdown",
   "metadata": {},
   "source": [
    "## Ideal environment model\n",
    "Considering the case where we are able to automatically identify good quality sleep and classify the sensor data of said night, we can build an environmental model based on that data. \n",
    "\n",
    "A nominal approach might be to consider the mean of the environmental data of all nights classified as 'Good' (or better) as a model. Future extensions could of course be to consider other types of environmental models or to weight more rescent classifications higher etc. \n",
    "\n",
    "Even without the automatic quality classification, a future implementation might have a standard model for the environment - then only update the model based on manual feedback.\n",
    "\n",
    "Anyways, this implementation simply takes the mean "
   ]
  },
  {
   "cell_type": "code",
   "execution_count": 237,
   "metadata": {
    "collapsed": false,
    "scrolled": true
   },
   "outputs": [],
   "source": [
    "# extract only interesting labels and resample to one minute\n",
    "lbls = ['temperature', 'light', 'humidity']\n",
    "\n",
    "for i,n in enumerate(lbls):\n",
    "    dta = []\n",
    "    for d in df:\n",
    "        d.index = pd.DatetimeIndex(d.index)\n",
    "        d1 = d.resample('1Min').mean()\n",
    "        d1.dropna()\n",
    "        dta.append(d1[lbls])\n",
    "\n",
    "# remove the date from the timestamp in index\n",
    "# to be able to compare data across days\n",
    "for i, d in enumerate(dta):\n",
    "    dta[i] = d.dropna()\n",
    "    dta[i].index = dta[i].index.time\n",
    "\n",
    "# get the latest time anyone goes to bed, and the earliest anyone wakes up    \n",
    "evening_ind = []\n",
    "morning_ind = []\n",
    "for d in dta:\n",
    "    evening_ind.append(d.index[0])\n",
    "    morning_ind.append(d.index[-1])\n",
    "\n",
    "# remove data times where not everyone are in bed\n",
    "for i,d in enumerate(dta):\n",
    "    for ind, val in enumerate(d.index):\n",
    "        if(val < max(evening_ind) and val > max(morning_ind)):\n",
    "            dta[i] = dta[i].drop([val])\n",
    "        elif(val > min(morning_ind) and val < min(evening_ind)):\n",
    "            dta[i] = dta[i].drop([val])\n",
    "\n",
    "# calculate the mean of the features\n",
    "# could also use min/max/moments, etc.\n",
    "# here we use all days available, but should be extended to only use data from \n",
    "# specific days, e.g. classified as good\n",
    "features = sum(dta) / len(dta)"
   ]
  },
  {
   "cell_type": "code",
   "execution_count": 242,
   "metadata": {
    "collapsed": false
   },
   "outputs": [
    {
     "data": {
      "text/plain": [
       "[<matplotlib.lines.Line2D at 0x1456e45c0>]"
      ]
     },
     "execution_count": 242,
     "metadata": {},
     "output_type": "execute_result"
    },
    {
     "data": {
      "image/png": "[encoded data removed]",
      "text/plain": [
       "<matplotlib.figure.Figure at 0x154e82da0>"
      ]
     },
     "metadata": {},
     "output_type": "display_data"
    },
    {
     "data": {
      "image/png": "[encoded data removed]",
      "text/plain": [
       "<matplotlib.figure.Figure at 0x10d9ec0f0>"
      ]
     },
     "metadata": {},
     "output_type": "display_data"
    },
    {
     "data": {
      "image/png": "[encoded data removed]",
      "text/plain": [
       "<matplotlib.figure.Figure at 0x1492d8828>"
      ]
     },
     "metadata": {},
     "output_type": "display_data"
    }
   ],
   "source": [
    "plt.figure(1)\n",
    "plt.plot(features.index, features['temperature'])\n",
    "plt.figure(2)\n",
    "plt.plot(features.index, features['light'])\n",
    "plt.figure(3)\n",
    "plt.plot(features.index, features['humidity'])"
   ]
  },
  {
   "cell_type": "code",
   "execution_count": 239,
   "metadata": {
    "collapsed": false
   },
   "outputs": [
    {
     "data": {
      "text/html": [
       "<div>\n",
       "<table border=\"1\" class=\"dataframe\">\n",
       "  <thead>\n",
       "    <tr style=\"text-align: right;\">\n",
       "      <th></th>\n",
       "      <th>temperature</th>\n",
       "      <th>light</th>\n",
       "      <th>humidity</th>\n",
       "    </tr>\n",
       "  </thead>\n",
       "  <tbody>\n",
       "    <tr>\n",
       "      <th>22:30:00</th>\n",
       "      <td>21.980458</td>\n",
       "      <td>0.189153</td>\n",
       "      <td>73.064456</td>\n",
       "    </tr>\n",
       "    <tr>\n",
       "      <th>22:31:00</th>\n",
       "      <td>21.977780</td>\n",
       "      <td>0.187262</td>\n",
       "      <td>73.038384</td>\n",
       "    </tr>\n",
       "    <tr>\n",
       "      <th>22:32:00</th>\n",
       "      <td>21.988469</td>\n",
       "      <td>0.191381</td>\n",
       "      <td>73.047415</td>\n",
       "    </tr>\n",
       "    <tr>\n",
       "      <th>22:33:00</th>\n",
       "      <td>21.982881</td>\n",
       "      <td>0.188447</td>\n",
       "      <td>73.037449</td>\n",
       "    </tr>\n",
       "    <tr>\n",
       "      <th>22:34:00</th>\n",
       "      <td>21.978889</td>\n",
       "      <td>0.190321</td>\n",
       "      <td>73.038477</td>\n",
       "    </tr>\n",
       "    <tr>\n",
       "      <th>22:35:00</th>\n",
       "      <td>21.984136</td>\n",
       "      <td>0.189606</td>\n",
       "      <td>73.040329</td>\n",
       "    </tr>\n",
       "    <tr>\n",
       "      <th>22:36:00</th>\n",
       "      <td>21.986087</td>\n",
       "      <td>0.188714</td>\n",
       "      <td>73.026240</td>\n",
       "    </tr>\n",
       "    <tr>\n",
       "      <th>22:37:00</th>\n",
       "      <td>21.970686</td>\n",
       "      <td>0.189566</td>\n",
       "      <td>73.058406</td>\n",
       "    </tr>\n",
       "    <tr>\n",
       "      <th>22:38:00</th>\n",
       "      <td>21.988745</td>\n",
       "      <td>0.188478</td>\n",
       "      <td>73.005556</td>\n",
       "    </tr>\n",
       "    <tr>\n",
       "      <th>22:39:00</th>\n",
       "      <td>21.984774</td>\n",
       "      <td>0.189136</td>\n",
       "      <td>73.006996</td>\n",
       "    </tr>\n",
       "    <tr>\n",
       "      <th>22:40:00</th>\n",
       "      <td>21.989396</td>\n",
       "      <td>0.190370</td>\n",
       "      <td>73.021954</td>\n",
       "    </tr>\n",
       "    <tr>\n",
       "      <th>22:41:00</th>\n",
       "      <td>21.978172</td>\n",
       "      <td>0.188284</td>\n",
       "      <td>73.003954</td>\n",
       "    </tr>\n",
       "    <tr>\n",
       "      <th>22:42:00</th>\n",
       "      <td>21.974336</td>\n",
       "      <td>0.188449</td>\n",
       "      <td>73.013887</td>\n",
       "    </tr>\n",
       "    <tr>\n",
       "      <th>22:43:00</th>\n",
       "      <td>21.983770</td>\n",
       "      <td>0.188934</td>\n",
       "      <td>72.986439</td>\n",
       "    </tr>\n",
       "    <tr>\n",
       "      <th>22:44:00</th>\n",
       "      <td>21.967307</td>\n",
       "      <td>0.188472</td>\n",
       "      <td>72.995297</td>\n",
       "    </tr>\n",
       "    <tr>\n",
       "      <th>22:45:00</th>\n",
       "      <td>21.976169</td>\n",
       "      <td>0.189355</td>\n",
       "      <td>72.956135</td>\n",
       "    </tr>\n",
       "    <tr>\n",
       "      <th>22:46:00</th>\n",
       "      <td>21.960116</td>\n",
       "      <td>0.187687</td>\n",
       "      <td>73.079787</td>\n",
       "    </tr>\n",
       "    <tr>\n",
       "      <th>22:47:00</th>\n",
       "      <td>21.973601</td>\n",
       "      <td>0.190060</td>\n",
       "      <td>72.963580</td>\n",
       "    </tr>\n",
       "    <tr>\n",
       "      <th>22:48:00</th>\n",
       "      <td>21.973601</td>\n",
       "      <td>0.189602</td>\n",
       "      <td>72.951029</td>\n",
       "    </tr>\n",
       "    <tr>\n",
       "      <th>22:49:00</th>\n",
       "      <td>21.966803</td>\n",
       "      <td>0.189606</td>\n",
       "      <td>72.987112</td>\n",
       "    </tr>\n",
       "    <tr>\n",
       "      <th>22:50:00</th>\n",
       "      <td>21.950419</td>\n",
       "      <td>0.190795</td>\n",
       "      <td>73.023902</td>\n",
       "    </tr>\n",
       "    <tr>\n",
       "      <th>22:51:00</th>\n",
       "      <td>21.943885</td>\n",
       "      <td>0.188964</td>\n",
       "      <td>73.027249</td>\n",
       "    </tr>\n",
       "    <tr>\n",
       "      <th>22:52:00</th>\n",
       "      <td>21.932128</td>\n",
       "      <td>0.189705</td>\n",
       "      <td>73.067665</td>\n",
       "    </tr>\n",
       "    <tr>\n",
       "      <th>22:53:00</th>\n",
       "      <td>21.957063</td>\n",
       "      <td>0.191282</td>\n",
       "      <td>72.948500</td>\n",
       "    </tr>\n",
       "    <tr>\n",
       "      <th>22:54:00</th>\n",
       "      <td>21.960275</td>\n",
       "      <td>0.188731</td>\n",
       "      <td>72.955476</td>\n",
       "    </tr>\n",
       "    <tr>\n",
       "      <th>22:55:00</th>\n",
       "      <td>21.924700</td>\n",
       "      <td>0.190056</td>\n",
       "      <td>73.075357</td>\n",
       "    </tr>\n",
       "    <tr>\n",
       "      <th>22:56:00</th>\n",
       "      <td>21.922650</td>\n",
       "      <td>0.189609</td>\n",
       "      <td>73.129039</td>\n",
       "    </tr>\n",
       "    <tr>\n",
       "      <th>22:57:00</th>\n",
       "      <td>21.967321</td>\n",
       "      <td>0.189377</td>\n",
       "      <td>72.928628</td>\n",
       "    </tr>\n",
       "    <tr>\n",
       "      <th>22:58:00</th>\n",
       "      <td>21.967737</td>\n",
       "      <td>0.189831</td>\n",
       "      <td>72.925309</td>\n",
       "    </tr>\n",
       "    <tr>\n",
       "      <th>22:59:00</th>\n",
       "      <td>21.956997</td>\n",
       "      <td>0.189836</td>\n",
       "      <td>72.964800</td>\n",
       "    </tr>\n",
       "    <tr>\n",
       "      <th>...</th>\n",
       "      <td>...</td>\n",
       "      <td>...</td>\n",
       "      <td>...</td>\n",
       "    </tr>\n",
       "    <tr>\n",
       "      <th>06:58:00</th>\n",
       "      <td>21.811946</td>\n",
       "      <td>41.079737</td>\n",
       "      <td>72.853150</td>\n",
       "    </tr>\n",
       "    <tr>\n",
       "      <th>06:59:00</th>\n",
       "      <td>21.836523</td>\n",
       "      <td>41.273856</td>\n",
       "      <td>72.787009</td>\n",
       "    </tr>\n",
       "    <tr>\n",
       "      <th>07:00:00</th>\n",
       "      <td>21.836391</td>\n",
       "      <td>41.434764</td>\n",
       "      <td>72.745977</td>\n",
       "    </tr>\n",
       "    <tr>\n",
       "      <th>07:01:00</th>\n",
       "      <td>21.822097</td>\n",
       "      <td>41.231976</td>\n",
       "      <td>72.704857</td>\n",
       "    </tr>\n",
       "    <tr>\n",
       "      <th>07:02:00</th>\n",
       "      <td>21.803851</td>\n",
       "      <td>41.329136</td>\n",
       "      <td>72.855415</td>\n",
       "    </tr>\n",
       "    <tr>\n",
       "      <th>07:03:00</th>\n",
       "      <td>21.818000</td>\n",
       "      <td>41.357942</td>\n",
       "      <td>72.686564</td>\n",
       "    </tr>\n",
       "    <tr>\n",
       "      <th>07:04:00</th>\n",
       "      <td>21.826459</td>\n",
       "      <td>41.521537</td>\n",
       "      <td>72.692413</td>\n",
       "    </tr>\n",
       "    <tr>\n",
       "      <th>07:05:00</th>\n",
       "      <td>21.837457</td>\n",
       "      <td>41.350834</td>\n",
       "      <td>72.708017</td>\n",
       "    </tr>\n",
       "    <tr>\n",
       "      <th>07:06:00</th>\n",
       "      <td>21.834704</td>\n",
       "      <td>41.427487</td>\n",
       "      <td>72.871091</td>\n",
       "    </tr>\n",
       "    <tr>\n",
       "      <th>07:07:00</th>\n",
       "      <td>21.807771</td>\n",
       "      <td>41.472459</td>\n",
       "      <td>73.106229</td>\n",
       "    </tr>\n",
       "    <tr>\n",
       "      <th>07:08:00</th>\n",
       "      <td>21.821316</td>\n",
       "      <td>41.229167</td>\n",
       "      <td>73.162576</td>\n",
       "    </tr>\n",
       "    <tr>\n",
       "      <th>07:09:00</th>\n",
       "      <td>21.835925</td>\n",
       "      <td>41.393155</td>\n",
       "      <td>73.151190</td>\n",
       "    </tr>\n",
       "    <tr>\n",
       "      <th>07:10:00</th>\n",
       "      <td>21.841930</td>\n",
       "      <td>41.355237</td>\n",
       "      <td>73.210357</td>\n",
       "    </tr>\n",
       "    <tr>\n",
       "      <th>07:11:00</th>\n",
       "      <td>21.829656</td>\n",
       "      <td>41.528254</td>\n",
       "      <td>73.112363</td>\n",
       "    </tr>\n",
       "    <tr>\n",
       "      <th>07:12:00</th>\n",
       "      <td>21.842997</td>\n",
       "      <td>41.555273</td>\n",
       "      <td>72.981434</td>\n",
       "    </tr>\n",
       "    <tr>\n",
       "      <th>07:13:00</th>\n",
       "      <td>21.830426</td>\n",
       "      <td>42.043579</td>\n",
       "      <td>73.021030</td>\n",
       "    </tr>\n",
       "    <tr>\n",
       "      <th>07:14:00</th>\n",
       "      <td>21.848129</td>\n",
       "      <td>42.202656</td>\n",
       "      <td>72.919571</td>\n",
       "    </tr>\n",
       "    <tr>\n",
       "      <th>07:15:00</th>\n",
       "      <td>21.858875</td>\n",
       "      <td>42.170378</td>\n",
       "      <td>72.905759</td>\n",
       "    </tr>\n",
       "    <tr>\n",
       "      <th>07:16:00</th>\n",
       "      <td>21.836032</td>\n",
       "      <td>42.335539</td>\n",
       "      <td>72.869351</td>\n",
       "    </tr>\n",
       "    <tr>\n",
       "      <th>07:17:00</th>\n",
       "      <td>21.852390</td>\n",
       "      <td>42.441580</td>\n",
       "      <td>72.811152</td>\n",
       "    </tr>\n",
       "    <tr>\n",
       "      <th>07:18:00</th>\n",
       "      <td>21.813192</td>\n",
       "      <td>42.460768</td>\n",
       "      <td>72.939910</td>\n",
       "    </tr>\n",
       "    <tr>\n",
       "      <th>07:19:00</th>\n",
       "      <td>21.842529</td>\n",
       "      <td>42.522497</td>\n",
       "      <td>72.880055</td>\n",
       "    </tr>\n",
       "    <tr>\n",
       "      <th>07:20:00</th>\n",
       "      <td>21.825868</td>\n",
       "      <td>42.658545</td>\n",
       "      <td>72.895553</td>\n",
       "    </tr>\n",
       "    <tr>\n",
       "      <th>07:21:00</th>\n",
       "      <td>21.829544</td>\n",
       "      <td>42.773470</td>\n",
       "      <td>72.872692</td>\n",
       "    </tr>\n",
       "    <tr>\n",
       "      <th>07:22:00</th>\n",
       "      <td>21.836712</td>\n",
       "      <td>42.903741</td>\n",
       "      <td>72.840986</td>\n",
       "    </tr>\n",
       "    <tr>\n",
       "      <th>07:23:00</th>\n",
       "      <td>21.836398</td>\n",
       "      <td>43.046968</td>\n",
       "      <td>72.788888</td>\n",
       "    </tr>\n",
       "    <tr>\n",
       "      <th>07:24:00</th>\n",
       "      <td>21.819923</td>\n",
       "      <td>43.129099</td>\n",
       "      <td>72.853193</td>\n",
       "    </tr>\n",
       "    <tr>\n",
       "      <th>07:25:00</th>\n",
       "      <td>21.821561</td>\n",
       "      <td>43.338641</td>\n",
       "      <td>72.867728</td>\n",
       "    </tr>\n",
       "    <tr>\n",
       "      <th>07:26:00</th>\n",
       "      <td>21.806816</td>\n",
       "      <td>43.575090</td>\n",
       "      <td>72.926771</td>\n",
       "    </tr>\n",
       "    <tr>\n",
       "      <th>07:27:00</th>\n",
       "      <td>21.857607</td>\n",
       "      <td>43.578365</td>\n",
       "      <td>72.740044</td>\n",
       "    </tr>\n",
       "  </tbody>\n",
       "</table>\n",
       "<p>538 rows × 3 columns</p>\n",
       "</div>"
      ],
      "text/plain": [
       "          temperature      light   humidity\n",
       "22:30:00    21.980458   0.189153  73.064456\n",
       "22:31:00    21.977780   0.187262  73.038384\n",
       "22:32:00    21.988469   0.191381  73.047415\n",
       "22:33:00    21.982881   0.188447  73.037449\n",
       "22:34:00    21.978889   0.190321  73.038477\n",
       "22:35:00    21.984136   0.189606  73.040329\n",
       "22:36:00    21.986087   0.188714  73.026240\n",
       "22:37:00    21.970686   0.189566  73.058406\n",
       "22:38:00    21.988745   0.188478  73.005556\n",
       "22:39:00    21.984774   0.189136  73.006996\n",
       "22:40:00    21.989396   0.190370  73.021954\n",
       "22:41:00    21.978172   0.188284  73.003954\n",
       "22:42:00    21.974336   0.188449  73.013887\n",
       "22:43:00    21.983770   0.188934  72.986439\n",
       "22:44:00    21.967307   0.188472  72.995297\n",
       "22:45:00    21.976169   0.189355  72.956135\n",
       "22:46:00    21.960116   0.187687  73.079787\n",
       "22:47:00    21.973601   0.190060  72.963580\n",
       "22:48:00    21.973601   0.189602  72.951029\n",
       "22:49:00    21.966803   0.189606  72.987112\n",
       "22:50:00    21.950419   0.190795  73.023902\n",
       "22:51:00    21.943885   0.188964  73.027249\n",
       "22:52:00    21.932128   0.189705  73.067665\n",
       "22:53:00    21.957063   0.191282  72.948500\n",
       "22:54:00    21.960275   0.188731  72.955476\n",
       "22:55:00    21.924700   0.190056  73.075357\n",
       "22:56:00    21.922650   0.189609  73.129039\n",
       "22:57:00    21.967321   0.189377  72.928628\n",
       "22:58:00    21.967737   0.189831  72.925309\n",
       "22:59:00    21.956997   0.189836  72.964800\n",
       "...               ...        ...        ...\n",
       "06:58:00    21.811946  41.079737  72.853150\n",
       "06:59:00    21.836523  41.273856  72.787009\n",
       "07:00:00    21.836391  41.434764  72.745977\n",
       "07:01:00    21.822097  41.231976  72.704857\n",
       "07:02:00    21.803851  41.329136  72.855415\n",
       "07:03:00    21.818000  41.357942  72.686564\n",
       "07:04:00    21.826459  41.521537  72.692413\n",
       "07:05:00    21.837457  41.350834  72.708017\n",
       "07:06:00    21.834704  41.427487  72.871091\n",
       "07:07:00    21.807771  41.472459  73.106229\n",
       "07:08:00    21.821316  41.229167  73.162576\n",
       "07:09:00    21.835925  41.393155  73.151190\n",
       "07:10:00    21.841930  41.355237  73.210357\n",
       "07:11:00    21.829656  41.528254  73.112363\n",
       "07:12:00    21.842997  41.555273  72.981434\n",
       "07:13:00    21.830426  42.043579  73.021030\n",
       "07:14:00    21.848129  42.202656  72.919571\n",
       "07:15:00    21.858875  42.170378  72.905759\n",
       "07:16:00    21.836032  42.335539  72.869351\n",
       "07:17:00    21.852390  42.441580  72.811152\n",
       "07:18:00    21.813192  42.460768  72.939910\n",
       "07:19:00    21.842529  42.522497  72.880055\n",
       "07:20:00    21.825868  42.658545  72.895553\n",
       "07:21:00    21.829544  42.773470  72.872692\n",
       "07:22:00    21.836712  42.903741  72.840986\n",
       "07:23:00    21.836398  43.046968  72.788888\n",
       "07:24:00    21.819923  43.129099  72.853193\n",
       "07:25:00    21.821561  43.338641  72.867728\n",
       "07:26:00    21.806816  43.575090  72.926771\n",
       "07:27:00    21.857607  43.578365  72.740044\n",
       "\n",
       "[538 rows x 3 columns]"
      ]
     },
     "execution_count": 239,
     "metadata": {},
     "output_type": "execute_result"
    }
   ],
   "source": [
    "features"
   ]
  }
 ],
 "metadata": {
  "kernelspec": {
   "display_name": "Python 3",
   "language": "python",
   "name": "python3"
  },
  "language_info": {
   "codemirror_mode": {
    "name": "ipython",
    "version": 3
   },
   "file_extension": ".py",
   "mimetype": "text/x-python",
   "name": "python",
   "nbconvert_exporter": "python",
   "pygments_lexer": "ipython3",
   "version": "3.6.0"
  }
 },
 "nbformat": 4,
 "nbformat_minor": 2
}
