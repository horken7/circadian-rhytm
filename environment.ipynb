{
 "cells": [
  {
   "cell_type": "code",
   "execution_count": 7,
   "metadata": {
    "collapsed": true
   },
   "outputs": [],
   "source": [
    "import pandas as pd\n",
    "import matplotlib.pyplot as plt\n",
    "import numpy as np\n",
    "import os\n",
    "\n",
    "%matplotlib inline"
   ]
  },
  {
   "cell_type": "code",
   "execution_count": 8,
   "metadata": {
    "collapsed": false
   },
   "outputs": [],
   "source": [
    "# search for csv location\n",
    "\n",
    "found = []\n",
    "\n",
    "def find(name):\n",
    "    path = os.getcwd()\n",
    "    file = name\n",
    "\n",
    "    for root, dir, files in os.walk(path):\n",
    "        for item in files:\n",
    "            if file == item:\n",
    "                return os.path.join(root, file)\n",
    "        return None\n",
    "data = ['00', '01', '02', '03', '05', '22', '23', '24', '25']\n",
    "for d in data:\n",
    "    found.append(find('data_' + d + '.csv.gz'))\n",
    "    found.append(find('data_' + d + '.csv'))"
   ]
  },
  {
   "cell_type": "code",
   "execution_count": 9,
   "metadata": {
    "collapsed": false
   },
   "outputs": [
    {
     "name": "stderr",
     "output_type": "stream",
     "text": [
      "//anaconda/lib/python3.6/site-packages/IPython/core/interactiveshell.py:2717: DtypeWarning: Columns (13) have mixed types. Specify dtype option on import or set low_memory=False.\n",
      "  interactivity=interactivity, compiler=compiler, result=result)\n"
     ]
    }
   ],
   "source": [
    "# load file\n",
    "\n",
    "df = []\n",
    "for path in found:\n",
    "    if path is not None:\n",
    "        if 'gz' in path:\n",
    "            fileName = path\n",
    "            df.append(pd.read_csv(fileName, index_col='datetime', compression='gzip'))\n",
    "        else: \n",
    "            fileName = path\n",
    "            df.append(pd.read_csv(fileName, index_col='datetime'))"
   ]
  },
  {
   "cell_type": "code",
   "execution_count": 13,
   "metadata": {
    "collapsed": false
   },
   "outputs": [],
   "source": [
    "environment_data = []\n",
    "for d in df:\n",
    "    environment_data.append(d[['cold-water', 'door', 'electricity',\n",
    "                           'hid', 'hot-water', 'humidity',\n",
    "                           'light', 'motion', 'noise', 'temperature']])\n"
   ]
  },
  {
   "cell_type": "code",
   "execution_count": 15,
   "metadata": {
    "collapsed": false
   },
   "outputs": [
    {
     "data": {
      "text/plain": [
       "9"
      ]
     },
     "execution_count": 15,
     "metadata": {},
     "output_type": "execute_result"
    }
   ],
   "source": []
  },
  {
   "cell_type": "code",
   "execution_count": 41,
   "metadata": {
    "collapsed": false
   },
   "outputs": [
    {
     "data": {
      "image/png": "[encoded data removed]",
      "text/plain": [
       "<matplotlib.figure.Figure at 0x13802d5f8>"
      ]
     },
     "metadata": {},
     "output_type": "display_data"
    }
   ],
   "source": [
    "fig = plt.figure(figsize=(10,10))\n",
    "ax = fig.add_subplot(111)\n",
    "\n",
    "for e in environment_data:\n",
    "    # exclude missing data\n",
    "    temp = e['temperature'].dropna()\n",
    "\n",
    "    resample_interval = '5Min'\n",
    "\n",
    "    # convert index to DatetimeIndex\n",
    "    temp.index = pd.DatetimeIndex(temp.index)\n",
    "\n",
    "    temp_resample = temp.resample(resample_interval).mean()\n",
    "\n",
    "    plt.plot(temp_resample.index, temp_resample)\n",
    "    #ax.set_xlim(xmin=22)\n",
    "    plt.gcf().autofmt_xdate()"
   ]
  },
  {
   "cell_type": "code",
   "execution_count": 40,
   "metadata": {
    "collapsed": false
   },
   "outputs": [
    {
     "data": {
      "text/plain": [
       "DatetimeIndex(['2016-05-26 21:10:00', '2016-05-26 21:15:00',\n",
       "               '2016-05-26 21:20:00', '2016-05-26 21:25:00',\n",
       "               '2016-05-26 21:30:00', '2016-05-26 21:35:00',\n",
       "               '2016-05-26 21:40:00', '2016-05-26 21:45:00',\n",
       "               '2016-05-26 21:50:00', '2016-05-26 21:55:00',\n",
       "               ...\n",
       "               '2016-05-27 06:40:00', '2016-05-27 06:45:00',\n",
       "               '2016-05-27 06:50:00', '2016-05-27 06:55:00',\n",
       "               '2016-05-27 07:00:00', '2016-05-27 07:05:00',\n",
       "               '2016-05-27 07:10:00', '2016-05-27 07:15:00',\n",
       "               '2016-05-27 07:20:00', '2016-05-27 07:25:00'],\n",
       "              dtype='datetime64[ns]', name='datetime', length=124, freq='5T')"
      ]
     },
     "execution_count": 40,
     "metadata": {},
     "output_type": "execute_result"
    }
   ],
   "source": [
    "temp_resample.index\n"
   ]
  },
  {
   "cell_type": "code",
   "execution_count": null,
   "metadata": {
    "collapsed": false
   },
   "outputs": [],
   "source": []
  }
 ],
 "metadata": {
  "kernelspec": {
   "display_name": "Python 3",
   "language": "python",
   "name": "python3"
  },
  "language_info": {
   "codemirror_mode": {
    "name": "ipython",
    "version": 3
   },
   "file_extension": ".py",
   "mimetype": "text/x-python",
   "name": "python",
   "nbconvert_exporter": "python",
   "pygments_lexer": "ipython3",
   "version": "3.6.0"
  }
 },
 "nbformat": 4,
 "nbformat_minor": 2
}
